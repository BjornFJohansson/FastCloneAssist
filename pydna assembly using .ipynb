{
 "cells": [
  {
   "cell_type": "code",
   "execution_count": 8,
   "id": "1bd68aec-3205-4fd5-ae22-c41a78871260",
   "metadata": {},
   "outputs": [],
   "source": [
    "from pydna.parsers import parse_primers"
   ]
  },
  {
   "cell_type": "code",
   "execution_count": 9,
   "id": "e4c3ebaa-c24a-47d5-a54f-5f71d53f449d",
   "metadata": {},
   "outputs": [],
   "source": [
    "ipf, ipr = parse_primers(\"\"\"\n",
    ">InsertPrimer_F\n",
    "GGACTTCGACATGGCAtagggattcgggtaaagagcgtg\n",
    "\n",
    ">InsertPrimer_R\n",
    "CCGAGGATTCAAAACGccagccgctaaatgggcgttc\n",
    "\"\"\")"
   ]
  },
  {
   "cell_type": "code",
   "execution_count": 10,
   "id": "9f5d7b58-52cd-43b8-803f-82ab601226a2",
   "metadata": {},
   "outputs": [],
   "source": [
    "vpf, vpr = parse_primers(\"\"\"\n",
    ">Vect.Primer_F:\n",
    "CGTTTTGAATCCTCGGTCCCCCTTGTC\n",
    "\n",
    ">Vect.Primer_R:\n",
    "TGCCATGTCGAAGTCCATTATAAGCGT\n",
    "\"\"\")"
   ]
  },
  {
   "cell_type": "code",
   "execution_count": 11,
   "id": "463b0ee8-5fae-4265-b1a9-8f6d2eba8d46",
   "metadata": {},
   "outputs": [],
   "source": [
    "from pydna.parsers import parse"
   ]
  },
  {
   "cell_type": "code",
   "execution_count": 12,
   "id": "a9343e9b-57b5-45ea-b09e-4f7e1531a791",
   "metadata": {},
   "outputs": [],
   "source": [
    "sequences = \"\"\"\n",
    ">a1 500 bp\n",
    "GGTATCCGCAACTTGTGAAGTGCCTACTATCCTTAAACGCATATCTCGCCCAGTAGCTTCCCAATATGTGAGCATCAATTGTTGTCCGGGCCGAGATAGTCATGTGCTCACGGAACTTACTGTATGAGTAGTGATTTGAAAGAGTTGTCAGTTTGCTGGTTCAGGTAAAGGTTCCTCACGCTACCTCAAAGTAAGAGAGCGGTCGTGACATTATCCGTGATTTTCTCACTACTATTAGTACTCACGACTCGATTCTGCCGCAGCCATGTTTCGCCAGAATGCCAGTCAGCATTAAGGAGAGCTCAGGGCAGGTCAACTCGCATAGTGAGGGTTACATGTTCGTTGGGCTCTTCCGACACGAACCTCAGTTAGCCTACATCCTACCAGAGGTCTGTGCCCCGGTGGTGAGAAGTGCGGATTTCGTATTTGCAGCTCGTCAGTACTTTCAGAATCATGGCCTGCACGGCAAAATGACGCTTATAATGGACTTCGACATGGCA\n",
    "\n",
    ">b 600 bp\n",
    "TAGGGATTCGGGTAAAGAGCGTGTCATTGGGGGCTTATACAGGCGTAGACTACAATGGGCCCAACTCAATCACAGCTCGAGCGCCTTGAATAACATACTCATCTCTATACATTCTCGACAATCTATCGAGCGAGTCGATTATCAACGGGTGTGTTGCAGTTTTAATCTCTTGCCAGCATTGTAATAGCCACCAAGAGATTGATGATAGTCATGGGTGCTGAGCTGAGACGGCGTCGATGCATAGCGGACTTTCGGTCAGTCGCAATTCCTCACGAGACTGGTCCTGTTGTGCGCATCACTCTCAATGTACAAGCAACCCAAGAAGGCTGAGCCTGGACTCAACCGGTTGCTGGGTGAACTCCAGACTCGGGGCGACAACTCTTCATACATAGAGCAAGGGCGTCGAACGGTCGTGAAAGTCTTAGTACCGCACGTACCAACTTACTGAGGATATTGCCTGAAGCTGTACCGTTTTAGGGGGGGAAGGTTGAAGATCTCCTCTTCTCATGACTGAACTCGCGAGGGCCGTGTTGCCGGTTCCTTCAGAGGTTAAAGAACAAAGGCTTACTGTGCGCAGAGGAACGCCCATTTAGCGGCTGG\n",
    "\n",
    ">a2 700 bp\n",
    "CGTTTTGAATCCTCGGTCCCCCTTGTCTATCCAGATTAATCCAATTCCCTCATTTAGGACCCTACCAAGTCAACATTGGTATATGAATGCGACCTCGAAGAGGCCGCCTAAAAATGACAGTGGTTGGTGCTCTAAACTTCATTTGGTTAACTCGTGTATCAGCGCGATAGGCTGTTAGAGGTTTAATATTGTATGGCAAGGTACTTCCGGTCTTAATGAATGGCCGGGAAAGGTACGCACGCGGTATGGGGGGGTGAAGGGGCGAATAGACAGGCTCCCCTCTCACTCGCTAGGAGGCAATTGTATAAGAATGCATACTGCATCGATACATAAAACGTCTCCATCGCTTGCCCAAGTTGTGAAGTGTCTATCACCCCTAGGCCCGTTTCCCGCATATTAACGCCTGATTGTATCCGCATTTGATGCTACCGTGGTTGAGTCAGCGTCGAGCACGCGGCACTTATTGCATGAGTAGAGTTGACTAAGAGCCGTTAGATGCCTCGCTGTACTAATAGTTGTCGACAGATCGTCAAGATTAGAAAACGGTAGCAGCATTATCGGAGGTTCTCTAACTAGTATGGATAGCCGTGTCTTCACTGTGCTGCGGCTACCCATCGCCTGAAAACCAGTTGGTGTTAAGCGATCCCCTGTCCAGGACGCCACACGTAGTGAAACATACACGTTCGTCGGGTTCACCCGG\n",
    "\"\"\""
   ]
  },
  {
   "cell_type": "code",
   "execution_count": 16,
   "id": "3455e891-a81d-4d4a-880e-0358bbd14ff6",
   "metadata": {},
   "outputs": [],
   "source": [
    "from pydna.amplify import pcr"
   ]
  },
  {
   "cell_type": "code",
   "execution_count": 17,
   "id": "29c924a5-2eec-4a68-b16e-972d8f2351e8",
   "metadata": {},
   "outputs": [],
   "source": [
    "a1, b, a2 = parse(sequences)"
   ]
  },
  {
   "cell_type": "code",
   "execution_count": 19,
   "id": "a967c325-5fc6-4a90-8547-4fe326589286",
   "metadata": {},
   "outputs": [],
   "source": [
    "insert = pcr(ipf,ipr, b)"
   ]
  },
  {
   "cell_type": "code",
   "execution_count": 20,
   "id": "5a9a7b07-adc6-4978-8df6-528f95df30ad",
   "metadata": {},
   "outputs": [
    {
     "data": {
      "text/html": [
       "Amplicon(632)"
      ],
      "text/plain": [
       "Amplicon(632)"
      ]
     },
     "execution_count": 20,
     "metadata": {},
     "output_type": "execute_result"
    }
   ],
   "source": [
    "insert"
   ]
  },
  {
   "cell_type": "code",
   "execution_count": 21,
   "id": "2f152cce-0547-4b7b-885e-523767c86f61",
   "metadata": {},
   "outputs": [],
   "source": [
    "vector = a2 + a1"
   ]
  },
  {
   "cell_type": "code",
   "execution_count": 22,
   "id": "73422fdc-3da6-4ae9-b2be-8a44c7b61c71",
   "metadata": {},
   "outputs": [],
   "source": [
    "vector = pcr(vpf,vpr, vector)"
   ]
  },
  {
   "cell_type": "code",
   "execution_count": 23,
   "id": "9f8497b6-cd0e-48d5-9b96-b9497237a21f",
   "metadata": {
    "scrolled": true
   },
   "outputs": [
    {
     "data": {
      "text/html": [
       "Amplicon(1200)"
      ],
      "text/plain": [
       "Amplicon(1200)"
      ]
     },
     "execution_count": 23,
     "metadata": {},
     "output_type": "execute_result"
    }
   ],
   "source": [
    "vector"
   ]
  },
  {
   "cell_type": "code",
   "execution_count": 24,
   "id": "a2510f7b-ef1a-4e79-b6e1-3c857ef0dee8",
   "metadata": {},
   "outputs": [],
   "source": [
    "from pydna.assembly import Assembly"
   ]
  },
  {
   "cell_type": "code",
   "execution_count": 38,
   "id": "9dc410ef-ef78-4acd-80d2-1a00338a40eb",
   "metadata": {},
   "outputs": [],
   "source": [
    "asm = Assembly((insert, vector), limit = 15)"
   ]
  },
  {
   "cell_type": "code",
   "execution_count": 39,
   "id": "be0d1be7-26f8-431d-8abd-478f0b401f58",
   "metadata": {},
   "outputs": [
    {
     "data": {
      "text/plain": [
       "Assembly\n",
       "fragments..: 632bp 1200bp\n",
       "limit(bp)..: 15\n",
       "G.nodes....: 4\n",
       "algorithm..: common_sub_strings"
      ]
     },
     "execution_count": 39,
     "metadata": {},
     "output_type": "execute_result"
    }
   ],
   "source": [
    "asm"
   ]
  },
  {
   "cell_type": "code",
   "execution_count": 41,
   "id": "d8793224-5e25-4701-beee-921e75ce0592",
   "metadata": {},
   "outputs": [],
   "source": [
    "candidate, _ = asm.assemble_circular()"
   ]
  },
  {
   "cell_type": "code",
   "execution_count": 42,
   "id": "7a2bd3a7-f3f9-4da1-aab7-8274af11a932",
   "metadata": {},
   "outputs": [
    {
     "data": {
      "text/html": [
       "<pre> -|632bp_PCR_prod|16\n",
       "|                 \\/\n",
       "|                 /\\\n",
       "|                 16|1200bp_PCR_prod|16\n",
       "|                                    \\/\n",
       "|                                    /\\\n",
       "|                                    16-\n",
       "|                                       |\n",
       " ---------------------------------------</pre>"
      ],
      "text/plain": [
       "Contig(o1800)"
      ]
     },
     "execution_count": 42,
     "metadata": {},
     "output_type": "execute_result"
    }
   ],
   "source": [
    "candidate"
   ]
  },
  {
   "cell_type": "code",
   "execution_count": 43,
   "id": "d1122fcc-1660-451f-8ef7-2a6aa4da4302",
   "metadata": {},
   "outputs": [
    {
     "data": {
      "text/plain": [
       "1800"
      ]
     },
     "execution_count": 43,
     "metadata": {},
     "output_type": "execute_result"
    }
   ],
   "source": [
    "len(candidate)"
   ]
  },
  {
   "cell_type": "code",
   "execution_count": 44,
   "id": "5dca24b5-7c33-41b2-b08a-fcb0e64a1235",
   "metadata": {},
   "outputs": [
    {
     "data": {
      "text/plain": [
       "'cdseguid=Hxy0_10XxY8cU5hc4Kv7uZi1RTI'"
      ]
     },
     "execution_count": 44,
     "metadata": {},
     "output_type": "execute_result"
    }
   ],
   "source": [
    "candidate.seguid()"
   ]
  },
  {
   "cell_type": "code",
   "execution_count": 45,
   "id": "15795092-b2cd-496e-8901-4080b0da84e4",
   "metadata": {},
   "outputs": [],
   "source": [
    "candidate.name = \"result\""
   ]
  },
  {
   "cell_type": "code",
   "execution_count": 46,
   "id": "d433818f-d7c0-4a57-94c3-2fef1cb1084c",
   "metadata": {},
   "outputs": [
    {
     "data": {
      "text/plain": [
       "cdseguid=Hxy0_10XxY8cU5hc4Kv7uZi1RTI"
      ]
     },
     "execution_count": 46,
     "metadata": {},
     "output_type": "execute_result"
    }
   ],
   "source": [
    "candidate.stamp()"
   ]
  },
  {
   "cell_type": "code",
   "execution_count": 47,
   "id": "13773cc6-8efe-48dd-8bf3-c5dd2f51c8b1",
   "metadata": {},
   "outputs": [
    {
     "name": "stdout",
     "output_type": "stream",
     "text": [
      "LOCUS       result                  1800 bp    DNA     circular UNK 01-JAN-1980\n",
      "DEFINITION  description.\n",
      "ACCESSION   id\n",
      "VERSION     id\n",
      "KEYWORDS    .\n",
      "SOURCE      .\n",
      "  ORGANISM  .\n",
      "            .\n",
      "COMMENT     pydna cdseguid=Hxy0_10XxY8cU5hc4Kv7uZi1RTI 2025-08-29T11:36:28\n",
      "FEATURES             Location/Qualifiers\n",
      "     primer_bind     17..39\n",
      "                     /label=\"InsertPrimer_F\"\n",
      "                     /PCR_conditions=\"primer\n",
      "                     sequence:GGACTTCGACATGGCAtagggattcgggtaaagagcgtg\"\n",
      "                     /ApEinfo_fwdcolor=\"#baffa3\"\n",
      "                     /ApEinfo_revcolor=\"#ffbaba\"\n",
      "     primer_bind     complement(596..616)\n",
      "                     /label=\"InsertPrimer_R\"\n",
      "                     /PCR_conditions=\"primer\n",
      "                     sequence:CCGAGGATTCAAAACGccagccgctaaatgggcgttc\"\n",
      "                     /ApEinfo_fwdcolor=\"#baffa3\"\n",
      "                     /ApEinfo_revcolor=\"#ffbaba\"\n",
      "     primer_bind     617..643\n",
      "                     /label=\"Vect.Primer_F:\"\n",
      "                     /PCR_conditions=\"primer\n",
      "                     sequence:CGTTTTGAATCCTCGGTCCCCCTTGTC\"\n",
      "                     /ApEinfo_fwdcolor=\"#baffa3\"\n",
      "                     /ApEinfo_revcolor=\"#ffbaba\"\n",
      "     primer_bind     join(1790..1800,1..16)\n",
      "                     /label=\"Vect.Primer_R:\"\n",
      "                     /PCR_conditions=\"primer\n",
      "                     sequence:TGCCATGTCGAAGTCCATTATAAGCGT\"\n",
      "                     /ApEinfo_fwdcolor=\"#baffa3\"\n",
      "                     /ApEinfo_revcolor=\"#ffbaba\"\n",
      "ORIGIN\n",
      "        1 ggacttcgac atggcatagg gattcgggta aagagcgtgt cattgggggc ttatacaggc\n",
      "       61 gtagactaca atgggcccaa ctcaatcaca gctcgagcgc cttgaataac atactcatct\n",
      "      121 ctatacattc tcgacaatct atcgagcgag tcgattatca acgggtgtgt tgcagtttta\n",
      "      181 atctcttgcc agcattgtaa tagccaccaa gagattgatg atagtcatgg gtgctgagct\n",
      "      241 gagacggcgt cgatgcatag cggactttcg gtcagtcgca attcctcacg agactggtcc\n",
      "      301 tgttgtgcgc atcactctca atgtacaagc aacccaagaa ggctgagcct ggactcaacc\n",
      "      361 ggttgctggg tgaactccag actcggggcg acaactcttc atacatagag caagggcgtc\n",
      "      421 gaacggtcgt gaaagtctta gtaccgcacg taccaactta ctgaggatat tgcctgaagc\n",
      "      481 tgtaccgttt taggggggga aggttgaaga tctcctcttc tcatgactga actcgcgagg\n",
      "      541 gccgtgttgc cggttccttc agaggttaaa gaacaaaggc ttactgtgcg cagaggaacg\n",
      "      601 cccatttagc ggctggcgtt ttgaatcctc ggtccccctt gtctatccag attaatccaa\n",
      "      661 ttccctcatt taggacccta ccaagtcaac attggtatat gaatgcgacc tcgaagaggc\n",
      "      721 cgcctaaaaa tgacagtggt tggtgctcta aacttcattt ggttaactcg tgtatcagcg\n",
      "      781 cgataggctg ttagaggttt aatattgtat ggcaaggtac ttccggtctt aatgaatggc\n",
      "      841 cgggaaaggt acgcacgcgg tatggggggg tgaaggggcg aatagacagg ctcccctctc\n",
      "      901 actcgctagg aggcaattgt ataagaatgc atactgcatc gatacataaa acgtctccat\n",
      "      961 cgcttgccca agttgtgaag tgtctatcac ccctaggccc gtttcccgca tattaacgcc\n",
      "     1021 tgattgtatc cgcatttgat gctaccgtgg ttgagtcagc gtcgagcacg cggcacttat\n",
      "     1081 tgcatgagta gagttgacta agagccgtta gatgcctcgc tgtactaata gttgtcgaca\n",
      "     1141 gatcgtcaag attagaaaac ggtagcagca ttatcggagg ttctctaact agtatggata\n",
      "     1201 gccgtgtctt cactgtgctg cggctaccca tcgcctgaaa accagttggt gttaagcgat\n",
      "     1261 cccctgtcca ggacgccaca cgtagtgaaa catacacgtt cgtcgggttc acccggggta\n",
      "     1321 tccgcaactt gtgaagtgcc tactatcctt aaacgcatat ctcgcccagt agcttcccaa\n",
      "     1381 tatgtgagca tcaattgttg tccgggccga gatagtcatg tgctcacgga acttactgta\n",
      "     1441 tgagtagtga tttgaaagag ttgtcagttt gctggttcag gtaaaggttc ctcacgctac\n",
      "     1501 ctcaaagtaa gagagcggtc gtgacattat ccgtgatttt ctcactacta ttagtactca\n",
      "     1561 cgactcgatt ctgccgcagc catgtttcgc cagaatgcca gtcagcatta aggagagctc\n",
      "     1621 agggcaggtc aactcgcata gtgagggtta catgttcgtt gggctcttcc gacacgaacc\n",
      "     1681 tcagttagcc tacatcctac cagaggtctg tgccccggtg gtgagaagtg cggatttcgt\n",
      "     1741 atttgcagct cgtcagtact ttcagaatca tggcctgcac ggcaaaatga cgcttataat\n",
      "//\n"
     ]
    }
   ],
   "source": [
    "print(candidate.format())"
   ]
  },
  {
   "cell_type": "code",
   "execution_count": null,
   "id": "198adf59-7625-4bc8-99ce-092f5a784b50",
   "metadata": {},
   "outputs": [],
   "source": []
  }
 ],
 "metadata": {
  "kernelspec": {
   "display_name": "Python (pydna312_bp185)",
   "language": "python",
   "name": "pydna312_bp185"
  },
  "language_info": {
   "codemirror_mode": {
    "name": "ipython",
    "version": 3
   },
   "file_extension": ".py",
   "mimetype": "text/x-python",
   "name": "python",
   "nbconvert_exporter": "python",
   "pygments_lexer": "ipython3",
   "version": "3.12.7"
  }
 },
 "nbformat": 4,
 "nbformat_minor": 5
}
