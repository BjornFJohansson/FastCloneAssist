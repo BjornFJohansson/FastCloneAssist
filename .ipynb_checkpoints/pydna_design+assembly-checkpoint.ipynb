{
 "cells": [
  {
   "cell_type": "code",
   "execution_count": 40,
   "id": "b2cf05e7-2d76-48ba-8c16-0068d056d184",
   "metadata": {},
   "outputs": [],
   "source": [
    "from pydna.parsers import parse"
   ]
  },
  {
   "cell_type": "code",
   "execution_count": 41,
   "id": "11844c3f-4b52-4151-b937-d5fa1a7d7420",
   "metadata": {},
   "outputs": [],
   "source": [
    "sequences = \"\"\"\n",
    ">a1 500 bp\n",
    "GGTATCCGCAACTTGTGAAGTGCCTACTATCCTTAAACGCATATCTCGCCCAGTAGCTTCCCAATATGTGAGCATCAATTGTTGTCCGGGCCGAGATAGTCATGTGCTCACGGAACTTACTGTATGAGTAGTGATTTGAAAGAGTTGTCAGTTTGCTGGTTCAGGTAAAGGTTCCTCACGCTACCTCAAAGTAAGAGAGCGGTCGTGACATTATCCGTGATTTTCTCACTACTATTAGTACTCACGACTCGATTCTGCCGCAGCCATGTTTCGCCAGAATGCCAGTCAGCATTAAGGAGAGCTCAGGGCAGGTCAACTCGCATAGTGAGGGTTACATGTTCGTTGGGCTCTTCCGACACGAACCTCAGTTAGCCTACATCCTACCAGAGGTCTGTGCCCCGGTGGTGAGAAGTGCGGATTTCGTATTTGCAGCTCGTCAGTACTTTCAGAATCATGGCCTGCACGGCAAAATGACGCTTATAATGGACTTCGACATGGCA\n",
    "\n",
    ">b 600 bp\n",
    "TAGGGATTCGGGTAAAGAGCGTGTCATTGGGGGCTTATACAGGCGTAGACTACAATGGGCCCAACTCAATCACAGCTCGAGCGCCTTGAATAACATACTCATCTCTATACATTCTCGACAATCTATCGAGCGAGTCGATTATCAACGGGTGTGTTGCAGTTTTAATCTCTTGCCAGCATTGTAATAGCCACCAAGAGATTGATGATAGTCATGGGTGCTGAGCTGAGACGGCGTCGATGCATAGCGGACTTTCGGTCAGTCGCAATTCCTCACGAGACTGGTCCTGTTGTGCGCATCACTCTCAATGTACAAGCAACCCAAGAAGGCTGAGCCTGGACTCAACCGGTTGCTGGGTGAACTCCAGACTCGGGGCGACAACTCTTCATACATAGAGCAAGGGCGTCGAACGGTCGTGAAAGTCTTAGTACCGCACGTACCAACTTACTGAGGATATTGCCTGAAGCTGTACCGTTTTAGGGGGGGAAGGTTGAAGATCTCCTCTTCTCATGACTGAACTCGCGAGGGCCGTGTTGCCGGTTCCTTCAGAGGTTAAAGAACAAAGGCTTACTGTGCGCAGAGGAACGCCCATTTAGCGGCTGG\n",
    "\n",
    ">a2 700 bp\n",
    "CGTTTTGAATCCTCGGTCCCCCTTGTCTATCCAGATTAATCCAATTCCCTCATTTAGGACCCTACCAAGTCAACATTGGTATATGAATGCGACCTCGAAGAGGCCGCCTAAAAATGACAGTGGTTGGTGCTCTAAACTTCATTTGGTTAACTCGTGTATCAGCGCGATAGGCTGTTAGAGGTTTAATATTGTATGGCAAGGTACTTCCGGTCTTAATGAATGGCCGGGAAAGGTACGCACGCGGTATGGGGGGGTGAAGGGGCGAATAGACAGGCTCCCCTCTCACTCGCTAGGAGGCAATTGTATAAGAATGCATACTGCATCGATACATAAAACGTCTCCATCGCTTGCCCAAGTTGTGAAGTGTCTATCACCCCTAGGCCCGTTTCCCGCATATTAACGCCTGATTGTATCCGCATTTGATGCTACCGTGGTTGAGTCAGCGTCGAGCACGCGGCACTTATTGCATGAGTAGAGTTGACTAAGAGCCGTTAGATGCCTCGCTGTACTAATAGTTGTCGACAGATCGTCAAGATTAGAAAACGGTAGCAGCATTATCGGAGGTTCTCTAACTAGTATGGATAGCCGTGTCTTCACTGTGCTGCGGCTACCCATCGCCTGAAAACCAGTTGGTGTTAAGCGATCCCCTGTCCAGGACGCCACACGTAGTGAAACATACACGTTCGTCGGGTTCACCCGG\n",
    "\"\"\""
   ]
  },
  {
   "cell_type": "code",
   "execution_count": 42,
   "id": "bd88c0e1-871d-4136-aea7-3c3a572d56f7",
   "metadata": {},
   "outputs": [],
   "source": [
    "a1, b, a2 = parse(sequences)"
   ]
  },
  {
   "cell_type": "code",
   "execution_count": 43,
   "id": "4f4617de-a43c-4334-b86c-02f9af1b756f",
   "metadata": {},
   "outputs": [],
   "source": [
    "from pydna.design import assembly_fragments, primer_design"
   ]
  },
  {
   "cell_type": "code",
   "execution_count": 44,
   "id": "d86e8935-b93e-48b9-9d0b-031b4c86ac49",
   "metadata": {},
   "outputs": [],
   "source": [
    "insert = primer_design(b)"
   ]
  },
  {
   "cell_type": "code",
   "execution_count": 45,
   "id": "aa503970-f630-4ba9-99a5-b00ceb9d5f83",
   "metadata": {},
   "outputs": [
    {
     "data": {
      "text/html": [
       "Amplicon(600)"
      ],
      "text/plain": [
       "Amplicon(600)"
      ]
     },
     "execution_count": 45,
     "metadata": {},
     "output_type": "execute_result"
    }
   ],
   "source": [
    "insert"
   ]
  },
  {
   "cell_type": "code",
   "execution_count": 46,
   "id": "6e56f3cb-ad54-4284-b7cc-326df433eb47",
   "metadata": {},
   "outputs": [],
   "source": [
    "vector = a2 + a1"
   ]
  },
  {
   "cell_type": "code",
   "execution_count": 47,
   "id": "e14f453b-3538-492b-8ab0-3359e022651e",
   "metadata": {},
   "outputs": [
    {
     "data": {
      "text/plain": [
       "Dseqrecord(-1200)"
      ]
     },
     "execution_count": 47,
     "metadata": {},
     "output_type": "execute_result"
    }
   ],
   "source": [
    "vector"
   ]
  },
  {
   "cell_type": "code",
   "execution_count": 48,
   "id": "a8303ffa-0ce0-4245-b154-65475201b979",
   "metadata": {},
   "outputs": [],
   "source": [
    "fragments = assembly_fragments((insert, vector), circular=True)"
   ]
  },
  {
   "cell_type": "code",
   "execution_count": 49,
   "id": "d26b0fa5-f962-47e5-b4af-e25573747b83",
   "metadata": {},
   "outputs": [
    {
     "data": {
      "text/plain": [
       "[Amplicon(670), Dseqrecord(-1200)]"
      ]
     },
     "execution_count": 49,
     "metadata": {},
     "output_type": "execute_result"
    }
   ],
   "source": [
    "fragments"
   ]
  },
  {
   "cell_type": "code",
   "execution_count": 50,
   "id": "7ab8ee8c-5ba7-4bf0-88c8-24eafc0b1918",
   "metadata": {},
   "outputs": [],
   "source": [
    "from pydna.assembly import Assembly"
   ]
  },
  {
   "cell_type": "code",
   "execution_count": 51,
   "id": "5817edc7-94b3-4960-be97-2e036c890c83",
   "metadata": {},
   "outputs": [],
   "source": [
    "asm = Assembly(fragments)"
   ]
  },
  {
   "cell_type": "code",
   "execution_count": 52,
   "id": "55677b01-ea35-40bd-a315-c561a40c07e3",
   "metadata": {},
   "outputs": [
    {
     "data": {
      "text/plain": [
       "Assembly\n",
       "fragments..: 670bp 1200bp\n",
       "limit(bp)..: 25\n",
       "G.nodes....: 4\n",
       "algorithm..: common_sub_strings"
      ]
     },
     "execution_count": 52,
     "metadata": {},
     "output_type": "execute_result"
    }
   ],
   "source": [
    "asm"
   ]
  },
  {
   "cell_type": "code",
   "execution_count": 53,
   "id": "4401e088-1030-49a9-87df-3e57985f7b68",
   "metadata": {},
   "outputs": [],
   "source": [
    "candidate, _ = asm.assemble_circular()"
   ]
  },
  {
   "cell_type": "code",
   "execution_count": 54,
   "id": "600a364e-7440-4866-8e32-031b0b517bd0",
   "metadata": {},
   "outputs": [
    {
     "data": {
      "text/html": [
       "<pre> -|670bp_PCR_prod|35\n",
       "|                 \\/\n",
       "|                 /\\\n",
       "|                 35|name|35\n",
       "|                         \\/\n",
       "|                         /\\\n",
       "|                         35-\n",
       "|                            |\n",
       " ----------------------------</pre>"
      ],
      "text/plain": [
       "Contig(o1800)"
      ]
     },
     "execution_count": 54,
     "metadata": {},
     "output_type": "execute_result"
    }
   ],
   "source": [
    "candidate"
   ]
  },
  {
   "cell_type": "code",
   "execution_count": 55,
   "id": "f00892cd-6aa2-49e1-975a-8c5d4cb94ce4",
   "metadata": {},
   "outputs": [
    {
     "data": {
      "text/plain": [
       "1800"
      ]
     },
     "execution_count": 55,
     "metadata": {},
     "output_type": "execute_result"
    }
   ],
   "source": [
    "len(candidate)"
   ]
  },
  {
   "cell_type": "code",
   "execution_count": 56,
   "id": "caf1f731-4e8c-4cb7-9c3e-38b12a3debcb",
   "metadata": {},
   "outputs": [
    {
     "data": {
      "text/plain": [
       "'cdseguid=Hxy0_10XxY8cU5hc4Kv7uZi1RTI'"
      ]
     },
     "execution_count": 56,
     "metadata": {},
     "output_type": "execute_result"
    }
   ],
   "source": [
    "candidate.seguid()"
   ]
  },
  {
   "cell_type": "code",
   "execution_count": null,
   "id": "7b766a53-0eb0-413f-b0d4-1fcc1212ab71",
   "metadata": {},
   "outputs": [],
   "source": [
    "candidate.name = \"result\""
   ]
  },
  {
   "cell_type": "code",
   "execution_count": 60,
   "id": "98027060-28ca-49fc-89ce-e52958bb9346",
   "metadata": {},
   "outputs": [
    {
     "data": {
      "text/plain": [
       "cdseguid=Hxy0_10XxY8cU5hc4Kv7uZi1RTI"
      ]
     },
     "execution_count": 60,
     "metadata": {},
     "output_type": "execute_result"
    }
   ],
   "source": [
    "candidate.stamp()"
   ]
  },
  {
   "cell_type": "code",
   "execution_count": 61,
   "id": "b6d0b564-5460-4ee7-b7f1-42eeb8dc5c22",
   "metadata": {},
   "outputs": [
    {
     "name": "stdout",
     "output_type": "stream",
     "text": [
      "LOCUS       name                    1800 bp    DNA     circular UNK 01-JAN-1980\n",
      "DEFINITION  description.\n",
      "ACCESSION   id\n",
      "VERSION     id\n",
      "KEYWORDS    .\n",
      "SOURCE      .\n",
      "  ORGANISM  .\n",
      "            .\n",
      "COMMENT     pydna cdseguid=Hxy0_10XxY8cU5hc4Kv7uZi1RTI 2025-08-29T11:13:43\n",
      "FEATURES             Location/Qualifiers\n",
      "     primer_bind     36..53\n",
      "                     /label=\"f600\"\n",
      "                     /PCR_conditions=\"primer sequence:TAGGGATTCGGGTAAAGA\"\n",
      "                     /ApEinfo_fwdcolor=\"#baffa3\"\n",
      "                     /ApEinfo_revcolor=\"#ffbaba\"\n",
      "     primer_bind     complement(621..635)\n",
      "                     /label=\"r600\"\n",
      "                     /PCR_conditions=\"primer sequence:CCAGCCGCTAAATGG\"\n",
      "                     /ApEinfo_fwdcolor=\"#baffa3\"\n",
      "                     /ApEinfo_revcolor=\"#ffbaba\"\n",
      "     primer_bind     36..53\n",
      "                     /label=\"f600\"\n",
      "                     /PCR_conditions=\"primer sequence:TAGGGATTCGGGTAAAGA\"\n",
      "                     /ApEinfo_fwdcolor=\"#baffa3\"\n",
      "                     /ApEinfo_revcolor=\"#ffbaba\"\n",
      "     primer_bind     complement(621..635)\n",
      "                     /label=\"r600\"\n",
      "                     /PCR_conditions=\"primer\n",
      "                     sequence:TCTGGATAGACAAGGGGGACCGAGGATTCAAAACGCCAGCCGCTAAATGG\n",
      "                     \"\n",
      "                     /ApEinfo_fwdcolor=\"#baffa3\"\n",
      "                     /ApEinfo_revcolor=\"#ffbaba\"\n",
      "     primer_bind     36..53\n",
      "                     /label=\"f600\"\n",
      "                     /PCR_conditions=\"primer\n",
      "                     sequence:GCAAAATGACGCTTATAATGGACTTCGACATGGCATAGGGATTCGGGTAA\n",
      "                     AGA\"\n",
      "                     /ApEinfo_fwdcolor=\"#baffa3\"\n",
      "                     /ApEinfo_revcolor=\"#ffbaba\"\n",
      "     primer_bind     complement(621..635)\n",
      "                     /label=\"r600\"\n",
      "                     /PCR_conditions=\"primer\n",
      "                     sequence:TCTGGATAGACAAGGGGGACCGAGGATTCAAAACGCCAGCCGCTAAATGG\n",
      "                     \"\n",
      "                     /ApEinfo_fwdcolor=\"#baffa3\"\n",
      "                     /ApEinfo_revcolor=\"#ffbaba\"\n",
      "ORIGIN\n",
      "        1 gcaaaatgac gcttataatg gacttcgaca tggcataggg attcgggtaa agagcgtgtc\n",
      "       61 attgggggct tatacaggcg tagactacaa tgggcccaac tcaatcacag ctcgagcgcc\n",
      "      121 ttgaataaca tactcatctc tatacattct cgacaatcta tcgagcgagt cgattatcaa\n",
      "      181 cgggtgtgtt gcagttttaa tctcttgcca gcattgtaat agccaccaag agattgatga\n",
      "      241 tagtcatggg tgctgagctg agacggcgtc gatgcatagc ggactttcgg tcagtcgcaa\n",
      "      301 ttcctcacga gactggtcct gttgtgcgca tcactctcaa tgtacaagca acccaagaag\n",
      "      361 gctgagcctg gactcaaccg gttgctgggt gaactccaga ctcggggcga caactcttca\n",
      "      421 tacatagagc aagggcgtcg aacggtcgtg aaagtcttag taccgcacgt accaacttac\n",
      "      481 tgaggatatt gcctgaagct gtaccgtttt agggggggaa ggttgaagat ctcctcttct\n",
      "      541 catgactgaa ctcgcgaggg ccgtgttgcc ggttccttca gaggttaaag aacaaaggct\n",
      "      601 tactgtgcgc agaggaacgc ccatttagcg gctggcgttt tgaatcctcg gtcccccttg\n",
      "      661 tctatccaga ttaatccaat tccctcattt aggaccctac caagtcaaca ttggtatatg\n",
      "      721 aatgcgacct cgaagaggcc gcctaaaaat gacagtggtt ggtgctctaa acttcatttg\n",
      "      781 gttaactcgt gtatcagcgc gataggctgt tagaggttta atattgtatg gcaaggtact\n",
      "      841 tccggtctta atgaatggcc gggaaaggta cgcacgcggt atgggggggt gaaggggcga\n",
      "      901 atagacaggc tcccctctca ctcgctagga ggcaattgta taagaatgca tactgcatcg\n",
      "      961 atacataaaa cgtctccatc gcttgcccaa gttgtgaagt gtctatcacc cctaggcccg\n",
      "     1021 tttcccgcat attaacgcct gattgtatcc gcatttgatg ctaccgtggt tgagtcagcg\n",
      "     1081 tcgagcacgc ggcacttatt gcatgagtag agttgactaa gagccgttag atgcctcgct\n",
      "     1141 gtactaatag ttgtcgacag atcgtcaaga ttagaaaacg gtagcagcat tatcggaggt\n",
      "     1201 tctctaacta gtatggatag ccgtgtcttc actgtgctgc ggctacccat cgcctgaaaa\n",
      "     1261 ccagttggtg ttaagcgatc ccctgtccag gacgccacac gtagtgaaac atacacgttc\n",
      "     1321 gtcgggttca cccggggtat ccgcaacttg tgaagtgcct actatcctta aacgcatatc\n",
      "     1381 tcgcccagta gcttcccaat atgtgagcat caattgttgt ccgggccgag atagtcatgt\n",
      "     1441 gctcacggaa cttactgtat gagtagtgat ttgaaagagt tgtcagtttg ctggttcagg\n",
      "     1501 taaaggttcc tcacgctacc tcaaagtaag agagcggtcg tgacattatc cgtgattttc\n",
      "     1561 tcactactat tagtactcac gactcgattc tgccgcagcc atgtttcgcc agaatgccag\n",
      "     1621 tcagcattaa ggagagctca gggcaggtca actcgcatag tgagggttac atgttcgttg\n",
      "     1681 ggctcttccg acacgaacct cagttagcct acatcctacc agaggtctgt gccccggtgg\n",
      "     1741 tgagaagtgc ggatttcgta tttgcagctc gtcagtactt tcagaatcat ggcctgcacg\n",
      "//\n"
     ]
    }
   ],
   "source": [
    "print(candidate.format())"
   ]
  },
  {
   "cell_type": "code",
   "execution_count": null,
   "id": "23334c5f-19f1-4d6a-af4c-453925688d71",
   "metadata": {},
   "outputs": [],
   "source": []
  }
 ],
 "metadata": {
  "kernelspec": {
   "display_name": "Python (pydna312_bp185)",
   "language": "python",
   "name": "pydna312_bp185"
  },
  "language_info": {
   "codemirror_mode": {
    "name": "ipython",
    "version": 3
   },
   "file_extension": ".py",
   "mimetype": "text/x-python",
   "name": "python",
   "nbconvert_exporter": "python",
   "pygments_lexer": "ipython3",
   "version": "3.12.7"
  }
 },
 "nbformat": 4,
 "nbformat_minor": 5
}
