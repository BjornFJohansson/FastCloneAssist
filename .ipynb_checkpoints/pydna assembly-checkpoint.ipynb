{
 "cells": [
  {
   "cell_type": "code",
   "execution_count": 4,
   "id": "5b5da97a-03c9-4584-85f7-adb47f5f4671",
   "metadata": {},
   "outputs": [],
   "source": [
    "from pydna.parsers import parse_primers"
   ]
  },
  {
   "cell_type": "code",
   "execution_count": 6,
   "id": "95e75cbc-2909-4dc8-8988-d0a03bb8beb6",
   "metadata": {},
   "outputs": [
    {
     "data": {
      "text/plain": [
       "[]"
      ]
     },
     "execution_count": 6,
     "metadata": {},
     "output_type": "execute_result"
    }
   ],
   "source": [
    "parse_primers(\"\"\"\n",
    ">InsertPrimer_F\n",
    "GGACTTCGACATGGCAtagggattcgggtaaagagcgtg\n",
    "\n",
    ">InsertPrimer_R\n",
    "CCGAGGATTCAAAACGccagccgctaaatgggcgttc\n",
    "\"\"\")"
   ]
  },
  {
   "cell_type": "code",
   "execution_count": 5,
   "id": "25bd3052-327d-4073-a5c0-5aa06862b6b8",
   "metadata": {},
   "outputs": [
    {
     "ename": "ValueError",
     "evalue": "not enough values to unpack (expected 2, got 0)",
     "output_type": "error",
     "traceback": [
      "\u001b[0;31m---------------------------------------------------------------------------\u001b[0m",
      "\u001b[0;31mValueError\u001b[0m                                Traceback (most recent call last)",
      "Cell \u001b[0;32mIn[5], line 1\u001b[0m\n\u001b[0;32m----> 1\u001b[0m ipf, ipr \u001b[38;5;241m=\u001b[39m parse_primers(\u001b[38;5;124m\"\"\"\u001b[39m\n\u001b[1;32m      2\u001b[0m \u001b[38;5;124m>InsertPrimer_F\u001b[39m\n\u001b[1;32m      3\u001b[0m \u001b[38;5;124mGGACTTCGACATGGCAtagggattcgggtaaagagcgtg\u001b[39m\n\u001b[1;32m      4\u001b[0m \n\u001b[1;32m      5\u001b[0m \u001b[38;5;124m>InsertPrimer_R\u001b[39m\n\u001b[1;32m      6\u001b[0m \u001b[38;5;124mCCGAGGATTCAAAACGccagccgctaaatgggcgttc\u001b[39m\n\u001b[1;32m      7\u001b[0m \u001b[38;5;124m\"\"\"\u001b[39m)\n",
      "\u001b[0;31mValueError\u001b[0m: not enough values to unpack (expected 2, got 0)"
     ]
    }
   ],
   "source": [
    "ipf, ipr = parse_primers(\"\"\"\n",
    ">InsertPrimer_F\n",
    "GGACTTCGACATGGCAtagggattcgggtaaagagcgtg\n",
    "\n",
    ">InsertPrimer_R\n",
    "CCGAGGATTCAAAACGccagccgctaaatgggcgttc\n",
    "\"\"\")"
   ]
  },
  {
   "cell_type": "code",
   "execution_count": null,
   "id": "5e06d382-8ebc-486a-887e-f3de248a8623",
   "metadata": {},
   "outputs": [],
   "source": []
  },
  {
   "cell_type": "code",
   "execution_count": null,
   "id": "1532a0c4-1d24-49bf-8d6e-48fa3dc2ec67",
   "metadata": {},
   "outputs": [],
   "source": [
    "\"\"\"\n",
    ">Vect.Primer_F:\n",
    "CGTTTTGAATCCTCGGTCCCCCTTGTC\n",
    "\n",
    ">Vect.Primer_R:\n",
    "TGCCATGTCGAAGTCCATTATAAGCGT\n",
    "\"\"\""
   ]
  }
 ],
 "metadata": {
  "kernelspec": {
   "display_name": "Python (pydna312)",
   "language": "python",
   "name": "pydna312"
  },
  "language_info": {
   "codemirror_mode": {
    "name": "ipython",
    "version": 3
   },
   "file_extension": ".py",
   "mimetype": "text/x-python",
   "name": "python",
   "nbconvert_exporter": "python",
   "pygments_lexer": "ipython3",
   "version": "3.12.7"
  }
 },
 "nbformat": 4,
 "nbformat_minor": 5
}
