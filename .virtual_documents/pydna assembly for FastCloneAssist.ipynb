from pydna.parsers import parse_primers


parse_primers("""
>InsertPrimer_F
GGACTTCGACATGGCAtagggattcgggtaaagagcgtg

>InsertPrimer_R
CCGAGGATTCAAAACGccagccgctaaatgggcgttc
""")


ipf, ipr = parse_primers("""
>InsertPrimer_F
GGACTTCGACATGGCAtagggattcgggtaaagagcgtg

>InsertPrimer_R
CCGAGGATTCAAAACGccagccgctaaatgggcgttc
""")





"""
>Vect.Primer_F:
CGTTTTGAATCCTCGGTCCCCCTTGTC

>Vect.Primer_R:
TGCCATGTCGAAGTCCATTATAAGCGT
"""
